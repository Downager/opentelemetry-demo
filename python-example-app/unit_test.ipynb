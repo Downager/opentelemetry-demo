{
 "cells": [
  {
   "cell_type": "code",
   "execution_count": null,
   "id": "initial_id",
   "metadata": {
    "collapsed": true,
    "is_executing": true
   },
   "outputs": [],
   "source": [
    "!pip install Flask>=2.2.2\n",
    "!pip install Flask_RESTful==0.3.10\n",
    "!pip install neo4j==5.14.1\n",
    "!pip install scikit_learn\n",
    "!pip install opentelemetry-api==1.20.0\n",
    "!pip install opentelemetry-exporter-otlp==1.20.0\n",
    "!pip install opentelemetry-instrumentation-flask==0.41b0\n",
    "!pip install opentelemetry-sdk==1.20.0"
   ]
  },
  {
   "cell_type": "code",
   "execution_count": 1,
   "outputs": [
    {
     "ename": "ModuleNotFoundError",
     "evalue": "No module named 'opentelemetry'",
     "output_type": "error",
     "traceback": [
      "\u001B[0;31m---------------------------------------------------------------------------\u001B[0m",
      "\u001B[0;31mModuleNotFoundError\u001B[0m                       Traceback (most recent call last)",
      "\u001B[0;32m<ipython-input-1-9c5a13a00868>\u001B[0m in \u001B[0;36m<module>\u001B[0;34m\u001B[0m\n\u001B[1;32m      1\u001B[0m \u001B[0;32mfrom\u001B[0m \u001B[0mos\u001B[0m \u001B[0;32mimport\u001B[0m \u001B[0mgetenv\u001B[0m\u001B[0;34m\u001B[0m\u001B[0;34m\u001B[0m\u001B[0m\n\u001B[1;32m      2\u001B[0m \u001B[0;32mfrom\u001B[0m \u001B[0mflask\u001B[0m \u001B[0;32mimport\u001B[0m \u001B[0mFlask\u001B[0m\u001B[0;34m\u001B[0m\u001B[0;34m\u001B[0m\u001B[0m\n\u001B[0;32m----> 3\u001B[0;31m \u001B[0;32mfrom\u001B[0m \u001B[0mopentelemetry\u001B[0m \u001B[0;32mimport\u001B[0m \u001B[0mtrace\u001B[0m\u001B[0;34m\u001B[0m\u001B[0;34m\u001B[0m\u001B[0m\n\u001B[0m\u001B[1;32m      4\u001B[0m \u001B[0;32mfrom\u001B[0m \u001B[0mopentelemetry\u001B[0m\u001B[0;34m.\u001B[0m\u001B[0mexporter\u001B[0m\u001B[0;34m.\u001B[0m\u001B[0motlp\u001B[0m\u001B[0;34m.\u001B[0m\u001B[0mproto\u001B[0m\u001B[0;34m.\u001B[0m\u001B[0mgrpc\u001B[0m\u001B[0;34m.\u001B[0m\u001B[0mtrace_exporter\u001B[0m \u001B[0;32mimport\u001B[0m \u001B[0mOTLPSpanExporter\u001B[0m\u001B[0;34m\u001B[0m\u001B[0;34m\u001B[0m\u001B[0m\n\u001B[1;32m      5\u001B[0m \u001B[0;32mfrom\u001B[0m \u001B[0mopentelemetry\u001B[0m\u001B[0;34m.\u001B[0m\u001B[0msdk\u001B[0m\u001B[0;34m.\u001B[0m\u001B[0mresources\u001B[0m \u001B[0;32mimport\u001B[0m \u001B[0mResource\u001B[0m\u001B[0;34m\u001B[0m\u001B[0;34m\u001B[0m\u001B[0m\n",
      "\u001B[0;31mModuleNotFoundError\u001B[0m: No module named 'opentelemetry'"
     ]
    }
   ],
   "source": [
    "from os import getenv\n",
    "from flask import Flask\n",
    "from opentelemetry import trace\n",
    "from opentelemetry.exporter.otlp.proto.grpc.trace_exporter import OTLPSpanExporter\n",
    "from opentelemetry.sdk.resources import Resource\n",
    "from opentelemetry.sdk.trace import TracerProvider\n",
    "from opentelemetry.sdk.trace.export import BatchSpanProcessor\n",
    "from opentelemetry.instrumentation.flask import FlaskInstrumentor\n",
    "\n",
    "# Initialize Flask app\n",
    "app = Flask(__name__)\n",
    "\n",
    "# Initialize TracerProvider\n",
    "resource = Resource(attributes={\"service.name\": \"python-example-app\"})\n",
    "trace.set_tracer_provider(TracerProvider(resource=resource))\n",
    "\n",
    "# Initialize OTLP exporter and BatchSpanProcessor\n",
    "oltp_endpoint = getenv(\"OTLP_ENDPOINT\", default=\"localhost:4317\")\n",
    "otlp_exporter = OTLPSpanExporter(endpoint=oltp_endpoint, insecure=True)\n",
    "span_processor = BatchSpanProcessor(otlp_exporter)\n",
    "\n",
    "trace.get_tracer_provider().add_span_processor(span_processor)"
   ],
   "metadata": {
    "collapsed": false,
    "ExecuteTime": {
     "end_time": "2023-12-17T15:22:55.363473322Z",
     "start_time": "2023-12-17T15:22:55.172972471Z"
    }
   },
   "id": "98161b4d76fdf344"
  }
 ],
 "metadata": {
  "kernelspec": {
   "display_name": "Python 3",
   "language": "python",
   "name": "python3"
  },
  "language_info": {
   "codemirror_mode": {
    "name": "ipython",
    "version": 2
   },
   "file_extension": ".py",
   "mimetype": "text/x-python",
   "name": "python",
   "nbconvert_exporter": "python",
   "pygments_lexer": "ipython2",
   "version": "2.7.6"
  }
 },
 "nbformat": 4,
 "nbformat_minor": 5
}
